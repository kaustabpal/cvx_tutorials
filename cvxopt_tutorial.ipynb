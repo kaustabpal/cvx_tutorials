{
 "cells": [
  {
   "cell_type": "markdown",
   "id": "8c3c8839-88f6-44d7-8be6-349703bffe99",
   "metadata": {},
   "source": [
    "# CVXOPT\n",
    "\n",
    "- [Official Documentation](https://cvxopt.org/userguide/index.html)"
   ]
  },
  {
   "cell_type": "markdown",
   "id": "d45a1f72-5b37-43fd-97cf-03a98178afe9",
   "metadata": {},
   "source": [
    "In CVXOPT the main thing that we need to do is write the cost function in  either of the following forms: Linear Programming, Quadratic Programming, Second-Order Cone Programming, Semidefinite Programming. \n",
    "\n",
    "For our work we are using a Quadratic solver so we are writing our cost function $minimize \\mid\\mid X_{curr} - X_{goal} \\mid \\mid_2$ in the quadratic form as:\n",
    "\n",
    "$$\\begin{array}{ll}\n",
    "\\mbox{minimize}   & (1/2) x^TPx + q^T x \\\\\n",
    "\\mbox{subject to} & G x \\preceq h \\\\\n",
    "                  & Ax = b.\n",
    "\\end{array}$$\n",
    "\n",
    "The derivation of the quadratic form from the cost function is something we need to do by hand and in the quadratic form, we need to only find the P, q, G, h ,A and b matrices.  Once we find these matrices, we then need to create these cvxopt matrices and input them in the solver as ```cvxopt.solvers.qp(P, q, G, h, A, b)``` and we will get our solution if it exists. \n",
    "\n",
    "Below is a simple example:"
   ]
  },
  {
   "cell_type": "code",
   "execution_count": 1,
   "id": "2cf2a46e-8a51-4fca-bcd7-800da06c969a",
   "metadata": {},
   "outputs": [],
   "source": [
    "import numpy as np\n",
    "import cvxopt as cvx"
   ]
  },
  {
   "cell_type": "markdown",
   "id": "d6f4086c-8cf3-49c4-8dae-310fa00d4349",
   "metadata": {},
   "source": [
    "## CVXOPT matrices\n",
    "\n",
    "The cvxopt solver will only accept cvxopt matrices. We can create a cvxopt matrix as ```cvxopt.matrix(x,size,tc)```.\n",
    "\n",
    "Here \n",
    "- x is a a number or a sequence of numbers.\n",
    "- size is a tuple containing the number of rows and columns.\n",
    "- tc is either 'i','d' or 'z' for 'integer', 'real/double' and 'complex' matrices respectively."
   ]
  },
  {
   "cell_type": "code",
   "execution_count": 2,
   "id": "7c3a0c16-bd6f-4791-8d4d-df8c569409bb",
   "metadata": {},
   "outputs": [
    {
     "name": "stdout",
     "output_type": "stream",
     "text": [
      "[ 1  4]\n",
      "[ 2  5]\n",
      "[ 3  6]\n",
      "\n"
     ]
    }
   ],
   "source": [
    "a_cvx = cvx.matrix([[1,2,3],[4,5,6]])\n",
    "print(a_cvx)"
   ]
  },
  {
   "cell_type": "code",
   "execution_count": 3,
   "id": "9f6acd50-cbd6-47ad-8c8e-1bebd97077de",
   "metadata": {},
   "outputs": [
    {
     "name": "stdout",
     "output_type": "stream",
     "text": [
      "[[1 2 3]\n",
      " [4 5 6]]\n"
     ]
    }
   ],
   "source": [
    "a_np = np.array([[1,2,3],[4,5,6]])\n",
    "print(a_np)"
   ]
  },
  {
   "cell_type": "markdown",
   "id": "2496891d-81cb-48c6-9e18-670920705c4a",
   "metadata": {},
   "source": [
    "In numpy the dimension of the matrix is given by ```a_np.shape```"
   ]
  },
  {
   "cell_type": "code",
   "execution_count": 4,
   "id": "8ac19906-cece-4c69-913e-de9d14fe801c",
   "metadata": {
    "tags": []
   },
   "outputs": [
    {
     "data": {
      "text/plain": [
       "(2, 3)"
      ]
     },
     "execution_count": 4,
     "metadata": {},
     "output_type": "execute_result"
    }
   ],
   "source": [
    "a_np.shape"
   ]
  },
  {
   "cell_type": "markdown",
   "id": "41d8c62e-7746-4ef9-bc86-420130e4f897",
   "metadata": {
    "tags": []
   },
   "source": [
    "In cvxopt the dimension of the matrix is given by ```a_cvx.size```"
   ]
  },
  {
   "cell_type": "code",
   "execution_count": 5,
   "id": "91f591c5-eefe-4f86-a566-853872f3b3ce",
   "metadata": {},
   "outputs": [
    {
     "data": {
      "text/plain": [
       "(3, 2)"
      ]
     },
     "execution_count": 5,
     "metadata": {},
     "output_type": "execute_result"
    }
   ],
   "source": [
    "a_cvx.size"
   ]
  },
  {
   "cell_type": "markdown",
   "id": "77d22f4c-eaf8-45e9-9db3-c8fa931d3063",
   "metadata": {},
   "source": [
    "In the above example ```a_cvx``` is a cvxopt matrix whereas ```a_np``` is a numpy matrix. As we can see, in the cvxopt matrix if size is not provided, by default it creates the matrix column wise whereas numpy creates the matrix rowwise. \n",
    "\n",
    "Since we are used to working with numpy matrices I think it's best to create the matrices as numpy matrices. first and then convert them to cvxopt matrices. We can do that as:"
   ]
  },
  {
   "cell_type": "code",
   "execution_count": 6,
   "id": "8cde0d58-7bfb-4f00-a52f-ad605d67e9c6",
   "metadata": {},
   "outputs": [
    {
     "name": "stdout",
     "output_type": "stream",
     "text": [
      "The numpy matrix is:\n",
      " [[1 2 3]\n",
      " [4 5 6]]\n",
      "The cvxopt matrix is:\n",
      " [ 1  2  3]\n",
      "[ 4  5  6]\n",
      "\n"
     ]
    }
   ],
   "source": [
    "b_np = np.array([[1,2,3],[4,5,6]])\n",
    "print(\"The numpy matrix is:\\n\",b_np)\n",
    "b_cvx = cvx.matrix(b_np)\n",
    "print(\"The cvxopt matrix is:\\n\",b_cvx)"
   ]
  },
  {
   "cell_type": "code",
   "execution_count": 7,
   "id": "6716cc3a-b620-4a81-a331-dfb4abb5112c",
   "metadata": {},
   "outputs": [
    {
     "data": {
      "text/plain": [
       "True"
      ]
     },
     "execution_count": 7,
     "metadata": {},
     "output_type": "execute_result"
    }
   ],
   "source": [
    "b_np.shape == b_cvx.size"
   ]
  },
  {
   "cell_type": "markdown",
   "id": "ab535ee9-c711-4ecc-8919-8b59e2434b3f",
   "metadata": {},
   "source": [
    "As we can see both the matrices are now of the same dimension even though we created the cvxopt matrix from the numpy matrix. "
   ]
  },
  {
   "cell_type": "markdown",
   "id": "28aafe9e-9a80-46c0-8d99-dcd409b2cf52",
   "metadata": {},
   "source": [
    "**Now that we have understood cvxopt matrices, let us see how to solve a simple quadratic programming problem using cvxopt.**"
   ]
  },
  {
   "cell_type": "markdown",
   "id": "f94c3154-50ce-4d39-8bf7-1e251fc0c3e0",
   "metadata": {},
   "source": [
    "## CVXOPT Quadratic Solver"
   ]
  },
  {
   "cell_type": "markdown",
   "id": "a41ba293-4ea5-495d-b8ee-661844b4f2c4",
   "metadata": {},
   "source": [
    "In the quqdratic form the cost function will be in the form of:\n",
    "$$\n",
    "(\\dfrac{1}{2})(ax^2 + 2bxy + cy^2) + q_1x + q_2y\n",
    "$$\n",
    "\n",
    "In the matrix form, the cost function is written as:\n",
    "$$(\\dfrac{1}{2})x^TPx+ q^Tx$$\n",
    "\n",
    "Now taking the example from the cvxopt documentation:\n",
    "$$\n",
    "\\begin{array}{ll}\n",
    "\\mbox{minimize}  &  2x_1^2 + x_2^2 + x_1 x_2 + x_1 + x_2 \\\\\n",
    "\\mbox{subject to} & x_1 \\geq 0 \\\\\n",
    "       & x_2 \\geq 0 \\\\\n",
    "       & x_1  + x_2  = 1\n",
    "\\end{array}\n",
    "$$\n",
    "\n",
    "Writing the problem in the matrix form, we get:\n",
    "$$P=2*\\begin{bmatrix}2 & 0.5 \\\\\n",
    "0.5 & 1 \\end{bmatrix}\\text{ and }q = \\begin{bmatrix}1\\\\1\\end{bmatrix}\\text{ and }G = \\begin{bmatrix}-1 & 0 \\\\ 0 & -1\\end{bmatrix}\\text{ and }h = \\begin{bmatrix}0 \\\\ 0 \\end{bmatrix}\\text{ and }A=\\begin{bmatrix}1 & 1\\end{bmatrix}\\text{ and }b = \\begin{bmatrix}1\\end{bmatrix}$$\n",
    "We multiply $2$ with the $P$ matrix so that it cancels out the $1/2$."
   ]
  },
  {
   "cell_type": "code",
   "execution_count": 8,
   "id": "44a48be4-ef85-4909-bd48-53b904e7ffa9",
   "metadata": {},
   "outputs": [],
   "source": [
    "Q = 2*cvx.matrix(np.array([ [2, .5], [.5, 1] ]))\n",
    "p = cvx.matrix(np.array([[1.0], [1.0]]))\n",
    "G = cvx.matrix(np.array([[-1.0,0.0],[0.0,-1.0]]))\n",
    "h = cvx.matrix(np.array([[0.0],[0.0]]))\n",
    "A = cvx.matrix(np.array([[1.0, 1.0]]))\n",
    "b = cvx.matrix(np.array([1.0]))"
   ]
  },
  {
   "cell_type": "code",
   "execution_count": 11,
   "id": "b9559a0f-9bf1-4621-b81d-608ab6012407",
   "metadata": {},
   "outputs": [
    {
     "name": "stdout",
     "output_type": "stream",
     "text": [
      "     pcost       dcost       gap    pres   dres\n",
      " 0:  1.8889e+00  7.7778e-01  1e+00  3e-16  2e+00\n",
      " 1:  1.8769e+00  1.8320e+00  4e-02  2e-16  6e-02\n",
      " 2:  1.8750e+00  1.8739e+00  1e-03  2e-16  5e-04\n",
      " 3:  1.8750e+00  1.8750e+00  1e-05  6e-17  5e-06\n",
      " 4:  1.8750e+00  1.8750e+00  1e-07  2e-16  5e-08\n",
      "Optimal solution found.\n"
     ]
    }
   ],
   "source": [
    "sol=cvx.solvers.qp(Q, p, G, h, A, b)"
   ]
  },
  {
   "cell_type": "code",
   "execution_count": 12,
   "id": "ef59a372-372d-47e1-b8c9-454b3ad88315",
   "metadata": {},
   "outputs": [
    {
     "name": "stdout",
     "output_type": "stream",
     "text": [
      "[ 2.50e-01]\n",
      "[ 7.50e-01]\n",
      "\n"
     ]
    }
   ],
   "source": [
    "print(sol['x']) # sol['x'] contains the optimal solution"
   ]
  },
  {
   "cell_type": "markdown",
   "id": "d3174ba1-86f4-4bff-b362-a933fec458f8",
   "metadata": {},
   "source": [
    "One of the cons of cvxopt is that we need to define the problems in the exact form required by solvers. Writing the cost function this way can sometimes be a bit complicated. However because cvxopt takes the problem in the standard form it doesn't spend any time converting the given problem to another form and therefore is much faster in finding the solutions."
   ]
  },
  {
   "cell_type": "markdown",
   "id": "82638a10-a5c6-4502-8bad-d441aca4f64a",
   "metadata": {},
   "source": [
    "*For MPC we need to write the cost function $\\mid \\mid X_{curr} - X_{goal} \\mid \\mid_2$ in the quadratic form as $(1/2)x^TPx + q^Tx$ and then simply pass the matrices to the solver to get the optimal controls.*"
   ]
  },
  {
   "cell_type": "code",
   "execution_count": null,
   "id": "66fc5e23-e47a-4be7-af50-67697e56157f",
   "metadata": {},
   "outputs": [],
   "source": []
  }
 ],
 "metadata": {
  "kernelspec": {
   "display_name": "Python 3",
   "language": "python",
   "name": "python3"
  },
  "language_info": {
   "codemirror_mode": {
    "name": "ipython",
    "version": 3
   },
   "file_extension": ".py",
   "mimetype": "text/x-python",
   "name": "python",
   "nbconvert_exporter": "python",
   "pygments_lexer": "ipython3",
   "version": "3.8.10"
  }
 },
 "nbformat": 4,
 "nbformat_minor": 5
}
