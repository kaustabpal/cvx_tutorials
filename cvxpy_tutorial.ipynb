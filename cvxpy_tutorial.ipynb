{
 "cells": [
  {
   "cell_type": "markdown",
   "id": "750a43a4-79e3-4e48-bf8d-7b8b2f22318d",
   "metadata": {},
   "source": [
    "# CVXPY"
   ]
  },
  {
   "cell_type": "markdown",
   "id": "12761a93-4dbc-43f2-b997-e2517f4daa2b",
   "metadata": {},
   "source": [
    "CVXPY is a modelling language for convex optimization problems. Here we can write the cost function in simple human readable forms and cvxpy automatically converts it into it's standard form and solves it.\n",
    "\n",
    "In cvxpy we have cvxpy variables. These are the variables that we solve for.\n",
    "\n",
    "If our problem is $\\text{minimize }(x - y)^2$ constrainted to $x+y=1$ and $x-y\\geq1$, then x and y are cvxpy variable here.\n",
    "\n",
    "We can define the cvxpy variables as:"
   ]
  },
  {
   "cell_type": "code",
   "execution_count": 1,
   "id": "2af7e963-75a7-44a5-acd7-805ced97ddfc",
   "metadata": {},
   "outputs": [],
   "source": [
    "import cvxpy as cp\n",
    "import numpy as np"
   ]
  },
  {
   "cell_type": "code",
   "execution_count": 2,
   "id": "14d74760-83e6-406a-8b08-b30a363d967e",
   "metadata": {},
   "outputs": [],
   "source": [
    "# The variables can be vectors and matrices as well.\n",
    "# Vector variable with shape (5,).\n",
    "tmp = cp.Variable(5)\n",
    "\n",
    "# Matrix variable with shape (5, 1).\n",
    "tmp = cp.Variable((5, 1))\n",
    "\n",
    "x = cp.Variable() \n",
    "y = cp.Variable()\n"
   ]
  },
  {
   "cell_type": "markdown",
   "id": "5454dc7d-a0b3-4b08-9d6d-9aaf9d9331f3",
   "metadata": {},
   "source": [
    "We can write our cost function as:"
   ]
  },
  {
   "cell_type": "code",
   "execution_count": 3,
   "id": "229f29fd-6f09-43b8-ab95-a8d85e84ad22",
   "metadata": {},
   "outputs": [],
   "source": [
    "cost = cp.Minimize((x-y)**2)"
   ]
  },
  {
   "cell_type": "markdown",
   "id": "64785cb0-6e1a-4308-ba28-af442c46714b",
   "metadata": {},
   "source": [
    "We also need to write our constraints as:"
   ]
  },
  {
   "cell_type": "code",
   "execution_count": 4,
   "id": "8d0551ec-ea40-4233-944f-7549feed936d",
   "metadata": {},
   "outputs": [],
   "source": [
    "constraints = [x + y == 1, x - y >= 1]"
   ]
  },
  {
   "cell_type": "markdown",
   "id": "21c35063-d526-430a-b37d-671c7189c805",
   "metadata": {},
   "source": [
    "Now that we have defined the cost and the constraints, we can write our optimization problem as: "
   ]
  },
  {
   "cell_type": "code",
   "execution_count": 5,
   "id": "d23ac8e1-bb3f-42ef-81b8-dd2074b08774",
   "metadata": {},
   "outputs": [],
   "source": [
    "prob = cp.Problem(cost, constraints)"
   ]
  },
  {
   "cell_type": "markdown",
   "id": "f04dab37-bbac-4320-8af9-1c694d3b60b2",
   "metadata": {},
   "source": [
    "To solve for the optimal values we simply do ```prob.solve()```"
   ]
  },
  {
   "cell_type": "code",
   "execution_count": 6,
   "id": "b6e0693d-860c-446f-aa5e-1112ee71d1bc",
   "metadata": {},
   "outputs": [
    {
     "data": {
      "text/plain": [
       "1.0"
      ]
     },
     "execution_count": 6,
     "metadata": {},
     "output_type": "execute_result"
    }
   ],
   "source": [
    "prob.solve() # will return the optimal value of the cost function"
   ]
  },
  {
   "cell_type": "code",
   "execution_count": 7,
   "id": "ca5fdeb9-27df-49bb-8203-6a5c6b34b50b",
   "metadata": {},
   "outputs": [
    {
     "name": "stdout",
     "output_type": "stream",
     "text": [
      "1.0 1.570086213240983e-22\n"
     ]
    }
   ],
   "source": [
    "print(x.value, y.value)"
   ]
  },
  {
   "cell_type": "markdown",
   "id": "0b2dadc7-f262-48b1-a815-7ca91db86f88",
   "metadata": {},
   "source": [
    "## DCP\n",
    "\n",
    "All the expressions in CVXPY need to follow the DCP(Disciplined Convex Programming) rules. These rules makes sure that the curvature of all the expressions that we will be using in cvxpy are either convex, concave or linear. Therefore if we have a nonconvex problem we need to convexify it first for cvxpy to solve it. For our MPC problem we convexify the expressions by linearizing them. \n",
    "\n",
    "You can read more about DCP in cvxpy's [official documentation](https://www.cvxpy.org/tutorial/dcp/index.html). They explained it quiet well there."
   ]
  },
  {
   "cell_type": "markdown",
   "id": "2ccda208-4e93-4c21-93fd-024172176054",
   "metadata": {},
   "source": [
    "## Solving the same cost function we solved using quadratic form in cvxopt:"
   ]
  },
  {
   "cell_type": "code",
   "execution_count": 8,
   "id": "fe4b2bc7-d000-435f-801d-210150b3af4e",
   "metadata": {},
   "outputs": [],
   "source": [
    "x = cp.Variable((2,1))"
   ]
  },
  {
   "cell_type": "code",
   "execution_count": 9,
   "id": "6b99f65a-908e-40ad-bae3-cb508ecd5551",
   "metadata": {},
   "outputs": [],
   "source": [
    "P = 2*np.array([ [2, .5], [.5, 1] ])\n",
    "q = np.array([[1.0], [1.0]])\n",
    "G = np.array([[-1.0,0.0],[0.0,-1.0]])\n",
    "h = np.array([[0.0],[0.0]])\n",
    "A = np.array([[1.0, 1.0]])\n",
    "b = np.array([1.0])"
   ]
  },
  {
   "cell_type": "code",
   "execution_count": 10,
   "id": "10790690-f0f6-47e8-92f3-6bfa92b0a1b6",
   "metadata": {},
   "outputs": [],
   "source": [
    "cost = cp.Minimize((1/2)*cp.quad_form(x, P) + q.T @ x)"
   ]
  },
  {
   "cell_type": "code",
   "execution_count": 11,
   "id": "e1ddca68-daaa-42ae-8159-2cfb22293d75",
   "metadata": {},
   "outputs": [],
   "source": [
    "constraints = [G @ x <= h,\n",
    "               A @ x == b]"
   ]
  },
  {
   "cell_type": "code",
   "execution_count": 12,
   "id": "293d5e64-1bd4-4e17-b99d-ee304ff9728a",
   "metadata": {},
   "outputs": [],
   "source": [
    "prob = cp.Problem(cost, constraints)"
   ]
  },
  {
   "cell_type": "code",
   "execution_count": 13,
   "id": "d700b800-a33d-4d64-95b2-fafa0b64a339",
   "metadata": {},
   "outputs": [
    {
     "data": {
      "text/plain": [
       "1.875"
      ]
     },
     "execution_count": 13,
     "metadata": {},
     "output_type": "execute_result"
    }
   ],
   "source": [
    "prob.solve()"
   ]
  },
  {
   "cell_type": "code",
   "execution_count": 14,
   "id": "ba2a5693-7843-463b-8457-2e4956e5fbb4",
   "metadata": {},
   "outputs": [
    {
     "data": {
      "text/plain": [
       "array([[0.25],\n",
       "       [0.75]])"
      ]
     },
     "execution_count": 14,
     "metadata": {},
     "output_type": "execute_result"
    }
   ],
   "source": [
    "x.value"
   ]
  },
  {
   "cell_type": "markdown",
   "id": "2c60569b-31f5-46dd-9ecd-c258ed34a8c7",
   "metadata": {},
   "source": [
    "The optimal values from cvxpy are the same as the optimal values from cvxopt."
   ]
  },
  {
   "cell_type": "markdown",
   "id": "2af26895-c001-405e-80ad-93be4e559451",
   "metadata": {},
   "source": [
    "## Resources\n",
    "\n",
    "1. [Tutorial page](https://www.cvxpy.org/tutorial/index.html)\n",
    "2. [CVXPY functions that are used to write expressions that satisfy DCP rules](https://www.cvxpy.org/tutorial/functions/index.html#functions)\n",
    "3. [Examples of different problems using cvxpy](https://www.cvxpy.org/examples/index.html)"
   ]
  },
  {
   "cell_type": "markdown",
   "id": "cd3c524f-7cb8-4eb7-8f99-c4382f9394aa",
   "metadata": {},
   "source": [
    "The main thing to keep in mind in cvxpy is to write the expressions following the DCP rules. These rules are also followed in cvx for matlab."
   ]
  },
  {
   "cell_type": "code",
   "execution_count": null,
   "id": "9f743427-fd6c-40ba-860b-00aaf6f5707a",
   "metadata": {},
   "outputs": [],
   "source": []
  }
 ],
 "metadata": {
  "kernelspec": {
   "display_name": "Python 3",
   "language": "python",
   "name": "python3"
  },
  "language_info": {
   "codemirror_mode": {
    "name": "ipython",
    "version": 3
   },
   "file_extension": ".py",
   "mimetype": "text/x-python",
   "name": "python",
   "nbconvert_exporter": "python",
   "pygments_lexer": "ipython3",
   "version": "3.8.10"
  }
 },
 "nbformat": 4,
 "nbformat_minor": 5
}
